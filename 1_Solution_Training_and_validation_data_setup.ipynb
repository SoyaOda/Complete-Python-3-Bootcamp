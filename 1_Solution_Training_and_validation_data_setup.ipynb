{
  "cells": [
    {
      "cell_type": "markdown",
      "metadata": {
        "id": "view-in-github",
        "colab_type": "text"
      },
      "source": [
        "<a href=\"https://colab.research.google.com/github/SoyaOda/Complete-Python-3-Bootcamp/blob/master/1_Solution_Training_and_validation_data_setup.ipynb\" target=\"_parent\"><img src=\"https://colab.research.google.com/assets/colab-badge.svg\" alt=\"Open In Colab\"/></a>"
      ]
    },
    {
      "cell_type": "markdown",
      "metadata": {
        "id": "XdV-deaIZWL0"
      },
      "source": [
        "# Medical image analysis with PyTorch\n",
        "\n",
        "Create a deep convolutional network for an image translation task with PyTorch from scratch and train it on a subset of the IXI dataset for a T1-w to T2-w transformation."
      ]
    },
    {
      "cell_type": "markdown",
      "metadata": {
        "id": "sNSmyxTUZWL3"
      },
      "source": [
        "### Setup notebook"
      ]
    },
    {
      "cell_type": "code",
      "source": [
        "from google.colab import drive\n",
        "drive.mount('/content/drive')"
      ],
      "metadata": {
        "colab": {
          "base_uri": "https://localhost:8080/"
        },
        "id": "IUPSVhHmMcJ4",
        "outputId": "a330c074-5f59-400d-fd68-60b8b8c7e02a"
      },
      "execution_count": 27,
      "outputs": [
        {
          "output_type": "stream",
          "name": "stdout",
          "text": [
            "Mounted at /content/drive\n"
          ]
        }
      ]
    },
    {
      "cell_type": "code",
      "execution_count": 13,
      "metadata": {
        "id": "UeWMkjQyZWL6"
      },
      "outputs": [],
      "source": [
        "# Import libraries\n",
        "from glob import glob\n",
        "import os\n",
        "import random\n",
        "import nibabel as nib\n",
        "import numpy as np\n",
        "from pathlib import Path\n",
        "from matplotlib import pyplot as plt\n",
        "import matplotlib\n",
        "import torch\n",
        "import torchvision"
      ]
    },
    {
      "cell_type": "markdown",
      "metadata": {
        "id": "_rSc0EYCZWMB"
      },
      "source": [
        " Support in-notebook plotting"
      ]
    },
    {
      "cell_type": "code",
      "execution_count": 2,
      "metadata": {
        "id": "9mU0dn9aZWMD"
      },
      "outputs": [],
      "source": [
        "# Use magic function to display matplotlib plots within the notebook next to the code\n",
        "%matplotlib inline"
      ]
    },
    {
      "cell_type": "markdown",
      "metadata": {
        "id": "DdpkEgeuZWMJ"
      },
      "source": [
        "Report versions"
      ]
    },
    {
      "cell_type": "code",
      "execution_count": 14,
      "metadata": {
        "colab": {
          "base_uri": "https://localhost:8080/"
        },
        "id": "CvLUQW2OZWML",
        "outputId": "7a9c9a56-2eb5-4a60-c717-3e8d3279d2bb"
      },
      "outputs": [
        {
          "output_type": "stream",
          "name": "stdout",
          "text": [
            "numpy version: 1.19.5\n",
            "matplotlib version: 3.2.2\n",
            "pytorch version: 1.10.0+cu111\n",
            "torchvision version: 0.11.1+cu111\n"
          ]
        }
      ],
      "source": [
        "# print Numpy verision\n",
        "print(f'numpy version: {np.__version__}')\n",
        "\n",
        "# print Matplotlib version\n",
        "print(f'matplotlib version: {matplotlib.__version__}')\n",
        "\n",
        "# print pytorch version\n",
        "print(f'pytorch version: {torch.__version__}')\n",
        "\n",
        "# print torchvision version\n",
        "print(f'torchvision version: {torchvision.__version__}')"
      ]
    },
    {
      "cell_type": "code",
      "execution_count": 20,
      "metadata": {
        "colab": {
          "base_uri": "https://localhost:8080/"
        },
        "id": "W41Y_1mCZWMT",
        "outputId": "e032d313-7511-4163-f81d-925ed6fed388"
      },
      "outputs": [
        {
          "output_type": "stream",
          "name": "stdout",
          "text": [
            "3.7.12 (default, Sep 10 2021, 00:21:48) \n",
            "[GCC 7.5.0]\n"
          ]
        }
      ],
      "source": [
        "# print python version info\n",
        "import sys\n",
        "print(sys.version)"
      ]
    },
    {
      "cell_type": "code",
      "execution_count": 21,
      "metadata": {
        "id": "tq1ATBYRZWMb"
      },
      "outputs": [],
      "source": [
        "# Reload packages where content for package development\n",
        "%load_ext autoreload\n",
        "%autoreload 2"
      ]
    },
    {
      "cell_type": "code",
      "execution_count": null,
      "metadata": {
        "colab": {
          "base_uri": "https://localhost:8080/"
        },
        "id": "Ylc8dBfAZWMh",
        "outputId": "ab1572f5-6673-489a-9e9c-0ac0a0c2c9eb"
      },
      "outputs": [
        {
          "name": "stdout",
          "output_type": "stream",
          "text": [
            "Sun May 30 10:50:15 2021       \n",
            "+-----------------------------------------------------------------------------+\n",
            "| NVIDIA-SMI 465.19.01    Driver Version: 460.32.03    CUDA Version: 11.2     |\n",
            "|-------------------------------+----------------------+----------------------+\n",
            "| GPU  Name        Persistence-M| Bus-Id        Disp.A | Volatile Uncorr. ECC |\n",
            "| Fan  Temp  Perf  Pwr:Usage/Cap|         Memory-Usage | GPU-Util  Compute M. |\n",
            "|                               |                      |               MIG M. |\n",
            "|===============================+======================+======================|\n",
            "|   0  Tesla T4            Off  | 00000000:00:04.0 Off |                    0 |\n",
            "| N/A   37C    P8     9W /  70W |      0MiB / 15109MiB |      0%      Default |\n",
            "|                               |                      |                  N/A |\n",
            "+-------------------------------+----------------------+----------------------+\n",
            "                                                                               \n",
            "+-----------------------------------------------------------------------------+\n",
            "| Processes:                                                                  |\n",
            "|  GPU   GI   CI        PID   Type   Process name                  GPU Memory |\n",
            "|        ID   ID                                                   Usage      |\n",
            "|=============================================================================|\n",
            "|  No running processes found                                                 |\n",
            "+-----------------------------------------------------------------------------+\n"
          ]
        }
      ],
      "source": [
        "# Check GPU(s)\n",
        "%%bash\n",
        "nvidia-smi"
      ]
    },
    {
      "cell_type": "code",
      "execution_count": 23,
      "metadata": {
        "id": "Gt7B3I2tZWMk"
      },
      "outputs": [],
      "source": [
        "# Set seeds for reproducibility\n",
        "np.random.seed(0)"
      ]
    },
    {
      "cell_type": "markdown",
      "metadata": {
        "id": "ho9_mNfXZWMp"
      },
      "source": [
        "## Step 1: Training and validation data setup\n",
        "\n",
        "Get the location of the training (and validation) data"
      ]
    },
    {
      "cell_type": "code",
      "execution_count": 28,
      "metadata": {
        "id": "Y5DRZ2OPZWMq"
      },
      "outputs": [],
      "source": [
        "train_dir = '/content/drive/MyDrive/3D Medical Image Analysis with PyTorch/Data/small'\n",
        "t1_dir = os.path.join(train_dir, 't1')\n",
        "t2_dir = os.path.join(train_dir, 't2')"
      ]
    },
    {
      "cell_type": "code",
      "execution_count": 29,
      "metadata": {
        "id": "CRVUz2SbZWMu"
      },
      "outputs": [],
      "source": [
        "t1_fns = glob(os.path.join(t1_dir, '*.nii*'))\n",
        "t2_fns = glob(os.path.join(t2_dir, '*.nii*'))\n",
        "assert len(t1_fns) == len(t2_fns) and len(t1_fns) != 0"
      ]
    },
    {
      "cell_type": "markdown",
      "metadata": {
        "id": "gwCMiUxuZWMz"
      },
      "source": [
        "### Milestone 1\n",
        "\n",
        "Look at an axial view of the source T1-weighted (T1-w) and target T2-weighted (T2-w) images."
      ]
    },
    {
      "cell_type": "code",
      "source": [
        "t1_id_list = []\n",
        "for path in t1_fns:\n",
        "    id = path[-25:-22]\n",
        "    id = int(id)\n",
        "    t1_id_list.append(id)\n",
        "t1_id_list.sort()\n",
        "\n",
        "t2_id_list = []\n",
        "for path in t2_fns:\n",
        "    id = path[-29:-26]\n",
        "    id = int(id)\n",
        "    t2_id_list.append(id)\n",
        "t2_id_list.sort()\n",
        "\n",
        "assert t1_id_list == t2_id_list"
      ],
      "metadata": {
        "id": "VcyUB91vIX1H"
      },
      "execution_count": 30,
      "outputs": []
    },
    {
      "cell_type": "code",
      "source": [
        "t1_fns_sorted = []\n",
        "t2_fns_sorted = []\n",
        "for id in t1_id_list:\n",
        "    path1 = glob(os.path.join(t1_dir, 'IXI' + str(id) + '*.nii*'))[0]\n",
        "    t1_fns_sorted.append(path1)\n",
        "    path2 = glob(os.path.join(t2_dir, 'IXI' + str(id) + '*.nii*'))[0]\n",
        "    t2_fns_sorted.append(path2)"
      ],
      "metadata": {
        "id": "Fkkdm7bNIdfD"
      },
      "execution_count": 31,
      "outputs": []
    },
    {
      "cell_type": "code",
      "source": [
        "# check IXI***-HH-**** == IXI***-HH-****\n",
        "for i in range(len(t1_fns_sorted)):\n",
        "    assert t1_fns_sorted[i][-28:-14] == t2_fns_sorted[i][-32:-18]"
      ],
      "metadata": {
        "id": "c4JyS6vxIfAg"
      },
      "execution_count": 32,
      "outputs": []
    },
    {
      "cell_type": "code",
      "source": [
        "#assert orientation and shape\n",
        "for path in t1_fns_sorted:\n",
        "    data = nib.load(path)\n",
        "    assert nib.aff2axcodes(data.affine) == ('P', 'S', 'R')\n",
        "    assert data.get_fdata().shape == (120, 120, 90)\n",
        "\n",
        "for path in t2_fns_sorted:\n",
        "    data = nib.load(path)\n",
        "    assert nib.aff2axcodes(data.affine) == ('P', 'S', 'R')\n",
        "    assert data.get_fdata().shape == (120, 120, 90)"
      ],
      "metadata": {
        "id": "CnPGiFrdIhGn"
      },
      "execution_count": 33,
      "outputs": []
    },
    {
      "cell_type": "code",
      "execution_count": 34,
      "metadata": {
        "id": "NMPuBBqBZWM0",
        "outputId": "87fe6410-bf18-4891-edde-955ac40b1265",
        "colab": {
          "base_uri": "https://localhost:8080/",
          "height": 649
        }
      },
      "outputs": [
        {
          "output_type": "stream",
          "name": "stderr",
          "text": [
            "/usr/local/lib/python3.7/dist-packages/ipykernel_launcher.py:1: DeprecationWarning: get_data() is deprecated in favor of get_fdata(), which has a more predictable return type. To obtain get_data() behavior going forward, use numpy.asanyarray(img.dataobj).\n",
            "\n",
            "* deprecated from version: 3.0\n",
            "* Will raise <class 'nibabel.deprecator.ExpiredDeprecationError'> as of version: 5.0\n",
            "  \"\"\"Entry point for launching an IPython kernel.\n"
          ]
        },
        {
          "output_type": "display_data",
          "data": {
            "image/png": "[encoded data removed]",
            "text/plain": [
              "<Figure size 1152x648 with 2 Axes>"
            ]
          },
          "metadata": {
            "needs_background": "light"
          }
        }
      ],
      "source": [
        "t1_ex, t2_ex = nib.load(t1_fns_sorted[0]).get_data(), nib.load(t2_fns_sorted[0]).get_data()\n",
        "fig,(ax1,ax2) = plt.subplots(1,2,figsize=(16,9))\n",
        "ax1.imshow(t1_ex[:,100,:], cmap='gray'); ax1.set_title('T1',fontsize=22); ax1.axis('off'); \n",
        "ax2.imshow(t2_ex[:,100,:], cmap='gray'); ax2.set_title('T2',fontsize=22); ax2.axis('off'); "
      ]
    }
  ],
  "metadata": {
    "accelerator": "GPU",
    "colab": {
      "collapsed_sections": [],
      "name": "1_Solution_Training_and_validation_data_setup.ipynb",
      "provenance": [],
      "include_colab_link": true
    },
    "kernelspec": {
      "display_name": "Python 3",
      "language": "python",
      "name": "python3"
    },
    "language_info": {
      "codemirror_mode": {
        "name": "ipython",
        "version": 3
      },
      "file_extension": ".py",
      "mimetype": "text/x-python",
      "name": "python",
      "nbconvert_exporter": "python",
      "pygments_lexer": "ipython3",
      "version": "3.7.10"
    }
  },
  "nbformat": 4,
  "nbformat_minor": 0
}