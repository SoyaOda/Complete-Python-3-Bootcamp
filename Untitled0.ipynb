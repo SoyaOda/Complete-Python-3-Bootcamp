{
  "nbformat": 4,
  "nbformat_minor": 0,
  "metadata": {
    "colab": {
      "provenance": [],
      "authorship_tag": "ABX9TyNjPppnycOIriS1u89PpMMn",
      "include_colab_link": true
    },
    "kernelspec": {
      "name": "python3",
      "display_name": "Python 3"
    },
    "language_info": {
      "name": "python"
    }
  },
  "cells": [
    {
      "cell_type": "markdown",
      "metadata": {
        "id": "view-in-github",
        "colab_type": "text"
      },
      "source": [
        "<a href=\"https://colab.research.google.com/github/SoyaOda/Complete-Python-3-Bootcamp/blob/master/Untitled0.ipynb\" target=\"_parent\"><img src=\"https://colab.research.google.com/assets/colab-badge.svg\" alt=\"Open In Colab\"/></a>"
      ]
    },
    {
      "cell_type": "code",
      "execution_count": null,
      "metadata": {
        "id": "NpI_Vwb1gLgd"
      },
      "outputs": [],
      "source": [
        "#ヒアリングシート\n",
        "【食事・運動ヒアリングシート】\n",
        "\n",
        "・年齢\n",
        "・性別\n",
        "・体重\n",
        "・身長\n",
        "・活動量 *\n",
        "基礎代謝を求めるのに必要な情報です。\n",
        "低い（横になったり、座っていることが多い）\n",
        "普通（デスクワーク、通勤時歩く）\n",
        "高い（肉体労働や運動習慣がしっかりある場合）\n",
        "\n",
        "\n",
        "・現在の体脂肪（わかればでOK）\n",
        "\n",
        "\n"
      ]
    },
    {
      "cell_type": "code",
      "source": [
        "#目標設定\n",
        "・1ヶ月に何kg痩せるか\n",
        "・摂取カロリー：\n",
        "    上限：上限を超えたら太るよ、消費カロリーを摂取カロリーが上回っている状態\n",
        "    推奨下限1：緩やかに痩せる、食事量をあまり変えたくない人\n",
        "    推奨下限2：しっかり痩せたい人用、食事制限もガッツリ頑張りたい人\n",
        "    下限：=基礎代謝、下回ることが続くと筋肉が落ち始めるかもよ\n",
        "\n",
        "・摂取カロリーを参考に、ファーストステップとして、何に注意したら良いか・・・後ほどPDF参照\n",
        "    満腹になるまで食べる人→よく噛んで食べましょう、満腹感が増えるので、食事量を減らしても満足感を増やすため\n",
        "    夜遅くに食べる人→\n",
        "        なるべく9時以降には食事しないように\n",
        "        分食がおすすめ\n",
        "            空腹時間が長くなるほど吸収率が高くなる\n",
        "            \n",
        "・運動：1日7000歩は目指してあるきましょう、ストレッチ大事、姿勢の話・・・後ほどPDF参照"
      ],
      "metadata": {
        "id": "YL-paUaGgRA1"
      },
      "execution_count": null,
      "outputs": []
    },
    {
      "cell_type": "code",
      "source": [],
      "metadata": {
        "id": "h88eribVqXvb"
      },
      "execution_count": null,
      "outputs": []
    },
    {
      "cell_type": "code",
      "source": [],
      "metadata": {
        "id": "nzLbOHHjqXsf"
      },
      "execution_count": null,
      "outputs": []
    },
    {
      "cell_type": "code",
      "source": [],
      "metadata": {
        "id": "eS5DkIC3qXn4"
      },
      "execution_count": null,
      "outputs": []
    },
    {
      "cell_type": "code",
      "source": [
        "#記録\n",
        "1. フォーム（あすけん＋手入力）：最低1週間やってもらって、自分のカロリーを自分で知ってもらう、どの食材がどれくらいのカロリー、PFCであるか知ってもらう意味合い\n",
        "2. 写真（メイン）：それを見て、どこを改善できるか、どこが良かったか（食材レベル）\n",
        "3. 食べた時間\n",
        "\n",
        "\n",
        "#フィードバック\n",
        "1. フォーム（あすけん＋手入力）\n",
        "    ・こういう場合にこういうフィードバックをする\n",
        "        XXXX\n",
        "        XXXX\n",
        "\n",
        "    ・AAAAAAAAA\n",
        "        XXXXXX\n",
        "        XXXXXX\n",
        "\n",
        "2. 写真（メイン）\n",
        "    ・\n",
        "    ・\n",
        "\n",
        "3. 食べた時間\n",
        "    ・\n",
        "    ・\n",
        "\n",
        "\n",
        "\n",
        "\n"
      ],
      "metadata": {
        "id": "u9XgkaNzgQ3x"
      },
      "execution_count": null,
      "outputs": []
    },
    {
      "cell_type": "code",
      "source": [
        "#また目標設定にもどる\n"
      ],
      "metadata": {
        "id": "S43gFreggQzq"
      },
      "execution_count": null,
      "outputs": []
    },
    {
      "cell_type": "code",
      "source": [],
      "metadata": {
        "id": "cULzGKA8gQsP"
      },
      "execution_count": null,
      "outputs": []
    }
  ]
}